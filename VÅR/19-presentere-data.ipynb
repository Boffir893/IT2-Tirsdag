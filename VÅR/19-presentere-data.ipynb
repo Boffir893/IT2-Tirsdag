{
 "cells": [
  {
   "cell_type": "markdown",
   "metadata": {},
   "source": [
    "# 19 - Presentere data\n",
    "\n",
    "## Plan for dagen\n",
    "\n",
    "1. Telling med ordbøker\n",
    "2. Sortere ordbøker\n",
    "3. Plotting\n",
    "4. Nettsider med Flask\n",
    "\n",
    "## Biblioteker\n",
    "\n",
    "I dag skal vi bruke `matplotlib` for å plotte data og `flask` for å presentere data på nettsider.\n",
    "De må installeres.\n",
    "Kjør følgende kommandoe i terminalen i VS Code (Terminal -> New Terminal):\n",
    "\n",
    "```bash\n",
    "# Mac\n",
    "pip3 install matplotlib flask requests\n",
    "\n",
    "# Windows\n",
    "pip install matplotlib flask requests\n",
    "```\n"
   ]
  },
  {
   "cell_type": "markdown",
   "metadata": {},
   "source": [
    "## Telle kategorier\n",
    "\n",
    "- [it2.thorcc.no - Telling med ordbøker](https://it2.thorcc.no/databehandling-og-algoritmer/lokker-lister-og-ordboker#eksempel-telling-med-ordb%C3%B8ker)"
   ]
  },
  {
   "cell_type": "markdown",
   "metadata": {},
   "source": [
    "### Eksempel 1: Formel 1-sjåfører\n",
    "\n",
    "**Oppgave**: lag en oversikt som viser antall sjåfører som har de ulike nasjonalitetene i Formel 1-sirkuset"
   ]
  },
  {
   "cell_type": "code",
   "execution_count": 1,
   "metadata": {},
   "outputs": [],
   "source": [
    "f1_sjåfører = [\n",
    "    {\"navn\": \"Lewis Hamilton\", \"nasjonalitet\": \"britisk\", \"team\": \"Mercedes\", \"bilnummer\": 44, \"bilde\": \"https://upload.wikimedia.org/wikipedia/commons/thumb/1/1e/Lewis_Hamilton_2016_Malaysia_2.jpg/220px-Lewis_Hamilton_2016_Malaysia_2.jpg\"},\n",
    "    {\"navn\": \"Max Verstappen\", \"nasjonalitet\": \"nederlandsk\", \"team\": \"Red Bull Racing\", \"bilnummer\": 33, \"bilde\": \"https://upload.wikimedia.org/wikipedia/commons/thumb/2/2c/Max_Verstappen_2017_Malaysia_2.jpg/220px-Max_Verstappen_2017_Malaysia_2.jpg\"},\n",
    "    {\"navn\": \"Valtteri Bottas\", \"nasjonalitet\": \"finsk\", \"team\": \"Mercedes\", \"bilnummer\": 77, \"bilde\": \"https://upload.wikimedia.org/wikipedia/commons/thumb/5/5f/Valtteri_Bottas_2019_Australia_2.jpg/220px-Valtteri_Bottas_2019_Australia_2.jpg\"},\n",
    "    {\"navn\": \"Sergio Perez\", \"nasjonalitet\": \"meksikansk\", \"team\": \"Red Bull Racing\", \"bilnummer\": 11, \"bilde\": \"https://upload.wikimedia.org/wikipedia/commons/thumb/4/4d/Sergio_Perez_2019_Australia_2.jpg/220px-Sergio_Perez_2019_Australia_2.jpg\"},\n",
    "    {\"navn\": \"Lando Norris\", \"nasjonalitet\": \"britisk\", \"team\": \"McLaren\", \"bilnummer\": 4, \"bilde\": \"https://upload.wikimedia.org/wikipedia/commons/thumb/3/3e/Lando_Norris_2019_Australia_2.jpg/220px-Lando_Norris_2019_Australia_2.jpg\"},\n",
    "    {\"navn\": \"Charles Leclerc\", \"nasjonalitet\": \"monégaskisk\", \"team\": \"Ferrari\", \"bilnummer\": 16, \"bilde\": \"https://upload.wikimedia.org/wikipedia/commons/thumb/5/5a/Charles_Leclerc_2019_Australia_2.jpg/220px-Charles_Leclerc_2019_Australia_2.jpg\"},\n",
    "    {\"navn\": \"Carlos Sainz\", \"nasjonalitet\": \"spansk\", \"team\": \"Ferrari\", \"bilnummer\": 55, \"bilde\": \"https://upload.wikimedia.org/wikipedia/commons/thumb/3/3f/Carlos_Sainz_Jr._2019_Australia_2.jpg/220px-Carlos_Sainz_Jr._2019_Australia_2.jpg\"},\n",
    "    {\"navn\": \"Daniel Ricciardo\", \"nasjonalitet\": \"australsk\", \"team\": \"McLaren\", \"bilnummer\": 3, \"bilde\": \"https://upload.wikimedia.org/wikipedia/commons/thumb/5/5f/Daniel_Ricciardo_2019_Australia_2.jpg/220px-Daniel_Ricciardo_2019_Australia_2.jpg\"},\n",
    "    {\"navn\": \"Sebastian Vettel\", \"nasjonalitet\": \"tysk\", \"team\": \"Aston Martin\", \"bilnummer\": 5, \"bilde\": \"https://upload.wikimedia.org/wikipedia/commons/thumb/8/8c/Sebastian_Vettel_2019_Australia_2.jpg/220px-Sebastian_Vettel_2019_Australia_2.jpg\"},\n",
    "    {\"navn\": \"Fernando Alonso\", \"nasjonalitet\": \"spansk\", \"team\": \"Alpine\", \"bilnummer\": 14, \"bilde\": \"https://upload.wikimedia.org/wikipedia/commons/thumb/7/7c/Fernando_Alonso_2019_Australia_2.jpg/220px-Fernando_Alonso_2019_Australia_2.jpg\"},\n",
    "    {\"navn\": \"Esteban Ocon\", \"nasjonalitet\": \"fransk\", \"team\": \"Alpine\", \"bilnummer\": 31, \"bilde\": \"https://upload.wikimedia.org/wikipedia/commons/thumb/5/5c/Esteban_Ocon_2019_Australia_2.jpg/220px-Esteban_Ocon_2019_Australia_2.jpg\"},\n",
    "    {\"navn\": \"Pierre Gasly\", \"nasjonalitet\": \"fransk\", \"team\": \"AlphaTauri\", \"bilnummer\": 10, \"bilde\": \"https://upload.wikimedia.org/wikipedia/commons/thumb/8/8c/Pierre_Gasly_2019_Australia_2.jpg/220px-Pierre_Gasly_2019_Australia_2.jpg\"},\n",
    "    {\"navn\": \"Yuki Tsunoda\", \"nasjonalitet\": \"japansk\", \"team\": \"AlphaTauri\", \"bilnummer\": 22, \"bilde\": \"https://upload.wikimedia.org/wikipedia/commons/thumb/7/7e/Yuki_Tsunoda_2019_Australia_2.jpg/220px-Yuki_Tsunoda_2019_Australia_2.jpg\"},\n",
    "    {\"navn\": \"Lance Stroll\", \"nasjonalitet\": \"canadisk\", \"team\": \"Aston Martin\", \"bilnummer\": 18, \"bilde\": \"https://upload.wikimedia.org/wikipedia/commons/thumb/6/6d/Lance_Stroll_2019_Australia_2.jpg/220px-Lance_Stroll_2019_Australia_2.jpg\"},\n",
    "    {\"navn\": \"George Russell\", \"nasjonalitet\": \"britisk\", \"team\": \"Williams\", \"bilnummer\": 63, \"bilde\": \"https://upload.wikimedia.org/wikipedia/commons/thumb/4/4a/George_Russell_2019_Australia_2.jpg/220px-George_Russell_2019_Australia_2.jpg\"},\n",
    "    {\"navn\": \"Nicholas Latifi\", \"nasjonalitet\": \"canadisk\", \"team\": \"Williams\", \"bilnummer\": 6, \"bilde\": \"https://upload.wikimedia.org/wikipedia/commons/thumb/9/9d/Nicholas_Latifi_2019_Australia_2.jpg/220px-Nicholas_Latifi_2019_Australia_2.jpg\"},\n",
    "    {\"navn\": \"Mick Schumacher\", \"nasjonalitet\": \"tysk\", \"team\": \"Haas\", \"bilnummer\": 47, \"bilde\": \"https://upload.wikimedia.org/wikipedia/commons/thumb/5/5c/Mick_Schumacher_2019_Australia_2.jpg/220px-Mick_Schumacher_2019_Australia_2.jpg\"},\n",
    "    {\"navn\": \"Nikita Mazepin\", \"nasjonalitet\": \"russisk\", \"team\": \"Haas\", \"bilnummer\": 9, \"bilde\": \"https://upload.wikimedia.org/wikipedia/commons/thumb/9/9c/Nikita_Mazepin_2019_Australia_2.jpg/220px-Nikita_Mazepin_2019_Australia_2.jpg\"},\n",
    "    {\"navn\": \"Robert Kubica\", \"nasjonalitet\": \"polsk\", \"team\": \"Alfa Romeo Racing\", \"bilnummer\": 88, \"bilde\": \"https://upload.wikimedia.org/wikipedia/commons/thumb/3/3e/Robert_Kubica_2019_Australia_2.jpg/220px-Robert_Kubica_2019_Australia_2.jpg\"},\n",
    "    {\"navn\": \"Antonio Giovinazzi\", \"nasjonalitet\": \"italiensk\", \"team\": \"Alfa Romeo Racing\", \"bilnummer\": 99, \"bilde\": \"https://upload.wikimedia.org/wikipedia/commons/thumb/9/9e/Antonio_Giovinazzi_2019_Australia_2.jpg/220px-Antonio_Giovinazzi_2019_Australia_2.jpg\"}\n",
    "]"
   ]
  },
  {
   "cell_type": "code",
   "execution_count": 3,
   "metadata": {},
   "outputs": [
    {
     "ename": "NameError",
     "evalue": "name 'f1_sjåfører' is not defined",
     "output_type": "error",
     "traceback": [
      "\u001b[1;31m---------------------------------------------------------------------------\u001b[0m",
      "\u001b[1;31mNameError\u001b[0m                                 Traceback (most recent call last)",
      "Cell \u001b[1;32mIn[3], line 6\u001b[0m\n\u001b[0;32m      1\u001b[0m \u001b[38;5;66;03m# oppvarming: print ut Bottas nasjonalitet.\u001b[39;00m\n\u001b[0;32m      2\u001b[0m \u001b[38;5;66;03m# print(f1_sjåfører[2][\"nasjonalitet\"])\u001b[39;00m\n\u001b[0;32m      3\u001b[0m \n\u001b[0;32m      4\u001b[0m \u001b[38;5;66;03m# oppvarming 2: print navn og nasjonalitet på alle sjoførene i lista og tell antall briter i listen.\u001b[39;00m\n\u001b[0;32m      5\u001b[0m antall_briter \u001b[38;5;241m=\u001b[39m \u001b[38;5;241m0\u001b[39m\n\u001b[1;32m----> 6\u001b[0m \u001b[38;5;28;01mfor\u001b[39;00m sjåfør \u001b[38;5;129;01min\u001b[39;00m \u001b[43mf1_sjåfører\u001b[49m:\n\u001b[0;32m      7\u001b[0m     \u001b[38;5;28mprint\u001b[39m(\u001b[38;5;124mf\u001b[39m\u001b[38;5;124m\"\u001b[39m\u001b[38;5;132;01m{\u001b[39;00msjåfør[\u001b[38;5;124m'\u001b[39m\u001b[38;5;124mnavn\u001b[39m\u001b[38;5;124m'\u001b[39m]\u001b[38;5;132;01m}\u001b[39;00m\u001b[38;5;124m, \u001b[39m\u001b[38;5;132;01m{\u001b[39;00msjåfør[\u001b[38;5;124m'\u001b[39m\u001b[38;5;124mnasjonalitet\u001b[39m\u001b[38;5;124m'\u001b[39m]\u001b[38;5;132;01m}\u001b[39;00m\u001b[38;5;124m\"\u001b[39m)\n\u001b[0;32m      8\u001b[0m     \u001b[38;5;28;01mif\u001b[39;00m sjåfør[\u001b[38;5;124m'\u001b[39m\u001b[38;5;124mnasjonalitet\u001b[39m\u001b[38;5;124m'\u001b[39m] \u001b[38;5;241m==\u001b[39m \u001b[38;5;124m'\u001b[39m\u001b[38;5;124mbritisk\u001b[39m\u001b[38;5;124m'\u001b[39m:\n",
      "\u001b[1;31mNameError\u001b[0m: name 'f1_sjåfører' is not defined"
     ]
    }
   ],
   "source": [
    "# oppvarming: print ut Bottas nasjonalitet.\n",
    "# print(f1_sjåfører[2][\"nasjonalitet\"])\n",
    "\n",
    "# oppvarming 2: print navn og nasjonalitet på alle sjoførene i lista og tell antall briter i listen.\n",
    "antall_briter = 0\n",
    "for sjåfør in f1_sjåfører:\n",
    "    print(f\"{sjåfør['navn']}, {sjåfør['nasjonalitet']}\")\n",
    "    if sjåfør['nasjonalitet'] == 'britisk':\n",
    "        antall_briter += 1\n",
    "print(f\"Antall briter: {antall_briter}\")\n"
   ]
  },
  {
   "cell_type": "code",
   "execution_count": 4,
   "metadata": {},
   "outputs": [
    {
     "ename": "NameError",
     "evalue": "name 'f1_sjåfører' is not defined",
     "output_type": "error",
     "traceback": [
      "\u001b[1;31m---------------------------------------------------------------------------\u001b[0m",
      "\u001b[1;31mNameError\u001b[0m                                 Traceback (most recent call last)",
      "Cell \u001b[1;32mIn[4], line 5\u001b[0m\n\u001b[0;32m      1\u001b[0m \u001b[38;5;66;03m# Telling av kategorier med en ordbok\u001b[39;00m\n\u001b[0;32m      3\u001b[0m antall_nasjonaliteter \u001b[38;5;241m=\u001b[39m {}\n\u001b[1;32m----> 5\u001b[0m \u001b[38;5;28;01mfor\u001b[39;00m sjåfør \u001b[38;5;129;01min\u001b[39;00m \u001b[43mf1_sjåfører\u001b[49m:\n\u001b[0;32m      6\u001b[0m     nasjonalitet \u001b[38;5;241m=\u001b[39m sjåfør[\u001b[38;5;124m'\u001b[39m\u001b[38;5;124mnasjonalitet\u001b[39m\u001b[38;5;124m'\u001b[39m]\n\u001b[0;32m      7\u001b[0m     \u001b[38;5;28;01mif\u001b[39;00m nasjonalitet \u001b[38;5;129;01mnot\u001b[39;00m \u001b[38;5;129;01min\u001b[39;00m antall_nasjonaliteter:\n",
      "\u001b[1;31mNameError\u001b[0m: name 'f1_sjåfører' is not defined"
     ]
    }
   ],
   "source": [
    "# Telling av kategorier med en ordbok\n",
    "\n",
    "antall_nasjonaliteter = {}\n",
    "\n",
    "for sjåfør in f1_sjåfører:\n",
    "    nasjonalitet = sjåfør['nasjonalitet']\n",
    "    if nasjonalitet not in antall_nasjonaliteter:\n",
    "        antall_nasjonaliteter[nasjonalitet] = 1\n",
    "    else: \n",
    "        antall_nasjonaliteter[nasjonalitet] += 1\n",
    "\n",
    "    \n",
    "\n",
    "\n",
    "antall_nasjonaliteter"
   ]
  },
  {
   "cell_type": "markdown",
   "metadata": {},
   "source": [
    "### Eksempel 2: Land\n",
    "\n",
    "**Oppgave 1**: lag en oversikt som viser antall land i de ulike verdensdelene  \n",
    "**Oppgave 2**: lag en oversikt som viser språk og antall land som har språket som offisielt språk."
   ]
  },
  {
   "cell_type": "code",
   "execution_count": 20,
   "metadata": {},
   "outputs": [],
   "source": [
    "land_info = [\n",
    "    {\"land\": \"Kina\", \"hovedstad\": \"Beijing\", \"befolkning\": 1410000000, \"språk\": [\"Mandarin\"]},\n",
    "    {\"land\": \"India\", \"hovedstad\": \"New Delhi\", \"befolkning\": 1390000000, \"språk\": [\"Hindi\", \"Engelsk\"]},\n",
    "    {\"land\": \"USA\", \"hovedstad\": \"Washington, D.C.\", \"befolkning\": 331000000, \"språk\": [\"Engelsk\"]},\n",
    "    {\"land\": \"Indonesia\", \"hovedstad\": \"Jakarta\", \"befolkning\": 273000000, \"språk\": [\"Indonesisk\"]},\n",
    "    {\"land\": \"Pakistan\", \"hovedstad\": \"Islamabad\", \"befolkning\": 225000000, \"språk\": [\"Urdu\", \"Engelsk\"]},\n",
    "    {\"land\": \"Brasil\", \"hovedstad\": \"Brasília\", \"befolkning\": 213000000, \"språk\": [\"Portugisisk\"]},\n",
    "    {\"land\": \"Nigeria\", \"hovedstad\": \"Abuja\", \"befolkning\": 211000000, \"språk\": [\"Engelsk\"]},\n",
    "    {\"land\": \"Bangladesh\", \"hovedstad\": \"Dhaka\", \"befolkning\": 166000000, \"språk\": [\"Bengali\"]},\n",
    "    {\"land\": \"Russland\", \"hovedstad\": \"Moskva\", \"befolkning\": 146000000, \"språk\": [\"Russisk\"]},\n",
    "    {\"land\": \"Mexico\", \"hovedstad\": \"Mexico City\", \"befolkning\": 128000000, \"språk\": [\"Spansk\"]},\n",
    "    {\"land\": \"Japan\", \"hovedstad\": \"Tokyo\", \"befolkning\": 125000000, \"språk\": [\"Japansk\"]},\n",
    "    {\"land\": \"Etiopia\", \"hovedstad\": \"Addis Ababa\", \"befolkning\": 118000000, \"språk\": [\"Amharisk\"]},\n",
    "    {\"land\": \"Filippinene\", \"hovedstad\": \"Manila\", \"befolkning\": 113000000, \"språk\": [\"Filippinsk\"]},\n",
    "    {\"land\": \"Egypt\", \"hovedstad\": \"Kairo\", \"befolkning\": 104000000, \"språk\": [\"Arabisk\"]},\n",
    "    {\"land\": \"Vietnam\", \"hovedstad\": \"Hanoi\", \"befolkning\": 97400000, \"språk\": [\"Vietnamesisk\"]},\n",
    "    {\"land\": \"DR Kongo\", \"hovedstad\": \"Kinshasa\", \"befolkning\": 90000000, \"språk\": [\"Fransk\"]},\n",
    "    {\"land\": \"Turkey\", \"hovedstad\": \"Ankara\", \"befolkning\": 83700000, \"språk\": [\"Tyrkisk\"]},\n",
    "    {\"land\": \"Iran\", \"hovedstad\": \"Teheran\", \"befolkning\": 83700000, \"språk\": [\"Persisk\"]},\n",
    "    {\"land\": \"Tyskland\", \"hovedstad\": \"Berlin\", \"befolkning\": 83000000, \"språk\": [\"Tysk\"]},\n",
    "    {\"land\": \"Thailand\", \"hovedstad\": \"Bangkok\", \"befolkning\": 70000000, \"språk\": [\"Thai\"]},\n",
    "    {\"land\": \"Frankrike\", \"hovedstad\": \"Paris\", \"befolkning\": 67000000, \"språk\": [\"Fransk\"]},\n",
    "    {\"land\": \"Storbritannia\", \"hovedstad\": \"London\", \"befolkning\": 67000000, \"språk\": [\"Engelsk\"]},\n",
    "    {\"land\": \"Italia\", \"hovedstad\": \"Roma\", \"befolkning\": 60300000, \"språk\": [\"Italiensk\"]},\n",
    "    {\"land\": \"Sør-Afrika\", \"hovedstad\": \"Pretoria, Cape Town, Bloemfontein\", \"befolkning\": 60000000,\n",
    "     \"språk\": [\"Afrikaans\", \"Engelsk\", \"isiNdebele\", \"isiXhosa\", \"isiZulu\", \"sesotho\", \"Setswana\", \"siSwati\", \"Tshivenda\", \"Xitsonga\"]},\n",
    "    {\"land\": \"Myanmar\", \"hovedstad\": \"Naypyidaw\", \"befolkning\": 54400000, \"språk\": [\"Burmese\"]},\n",
    "    {\"land\": \"Sør-Korea\", \"hovedstad\": \"Seoul\", \"befolkning\": 51700000, \"språk\": [\"Koreansk\"]},\n",
    "    {\"land\": \"Colombia\", \"hovedstad\": \"Bogotá\", \"befolkning\": 50300000, \"språk\": [\"Spansk\"]},\n",
    "    {\"land\": \"Kenya\", \"hovedstad\": \"Nairobi\", \"befolkning\": 49000000, \"språk\": [\"Swahili\", \"Engelsk\"]},\n",
    "    {\"land\": \"Spania\", \"hovedstad\": \"Madrid\", \"befolkning\": 47000000, \"språk\": [\"Spansk\"]},\n",
    "    {\"land\": \"Argentina\", \"hovedstad\": \"Buenos Aires\", \"befolkning\": 45000000, \"språk\": [\"Spansk\"]},\n",
    "    {\"land\": \"Thailand\", \"hovedstad\": \"Bangkok\", \"befolkning\": 70000000, \"språk\": [\"Thai\"], \"verdensdel\": \"Asia\"},\n",
    "    {\"land\": \"Frankrike\", \"hovedstad\": \"Paris\", \"befolkning\": 67000000, \"språk\": [\"Fransk\"], \"verdensdel\": \"Europa\"},\n",
    "    {\"land\": \"Storbritannia\", \"hovedstad\": \"London\", \"befolkning\": 67000000, \"språk\": [\"Engelsk\"], \"verdensdel\": \"Europa\"},\n",
    "    {\"land\": \"Italia\", \"hovedstad\": \"Roma\", \"befolkning\": 60300000, \"språk\": [\"Italiensk\"], \"verdensdel\": \"Europa\"},\n",
    "    {\"land\": \"Sør-Afrika\", \"hovedstad\": \"Pretoria, Cape Town, Bloemfontein\", \"befolkning\": 60000000,\n",
    "     \"språk\": [\"Afrikaans\", \"Engelsk\", \"isiNdebele\", \"isiXhosa\", \"isiZulu\", \"sesotho\", \"Setswana\", \"siSwati\", \"Tshivenda\", \"Xitsonga\"], \"verdensdel\": \"Afrika\"},\n",
    "    {\"land\": \"Myanmar\", \"hovedstad\": \"Naypyidaw\", \"befolkning\": 54400000, \"språk\": [\"Burmese\"], \"verdensdel\": \"Asia\"},\n",
    "    {\"land\": \"Sør-Korea\", \"hovedstad\": \"Seoul\", \"befolkning\": 51700000, \"språk\": [\"Koreansk\"], \"verdensdel\": \"Asia\"},\n",
    "    {\"land\": \"Colombia\", \"hovedstad\": \"Bogotá\", \"befolkning\": 50300000, \"språk\": [\"Spansk\"], \"verdensdel\": \"Sør-Amerika\"},\n",
    "    {\"land\": \"Kenya\", \"hovedstad\": \"Nairobi\", \"befolkning\": 49000000, \"språk\": [\"Swahili\", \"Engelsk\"], \"verdensdel\": \"Afrika\"},\n",
    "    {\"land\": \"Spania\", \"hovedstad\": \"Madrid\", \"befolkning\": 47000000, \"språk\": [\"Spansk\"], \"verdensdel\": \"Europa\"},\n",
    "    {\"land\": \"Argentina\", \"hovedstad\": \"Buenos Aires\", \"befolkning\": 45000000, \"språk\": [\"Spansk\"], \"verdensdel\": \"Sør-Amerika\"},\n",
    "]"
   ]
  },
  {
   "cell_type": "code",
   "execution_count": null,
   "metadata": {},
   "outputs": [],
   "source": []
  },
  {
   "cell_type": "markdown",
   "metadata": {},
   "source": [
    "## Sortere ordbøker\n",
    "\n",
    "- [it2.thorcc.no - Sortere ordbøker med verdier](https://it2.thorcc.no/databehandling-og-algoritmer/lokker-lister-og-ordboker#sortering-av-ordb%C3%B8ker-med-verdier)\n"
   ]
  },
  {
   "cell_type": "code",
   "execution_count": null,
   "metadata": {},
   "outputs": [],
   "source": []
  },
  {
   "cell_type": "markdown",
   "metadata": {},
   "source": [
    "## Plotting\n",
    "\n",
    "- [it2.thorcc.no - Plotting](https://it2.thorcc.no/databehandling-og-algoritmer/plotting)"
   ]
  },
  {
   "cell_type": "code",
   "execution_count": 25,
   "metadata": {},
   "outputs": [
    {
     "data": {
      "text/plain": [
       "Text(0, 0.5, 'y-verdier')"
      ]
     },
     "execution_count": 25,
     "metadata": {},
     "output_type": "execute_result"
    },
    {
     "data": {
      "image/png": "[encoded data removed]",
      "text/plain": [
       "<Figure size 640x480 with 1 Axes>"
      ]
     },
     "metadata": {},
     "output_type": "display_data"
    }
   ],
   "source": [
    "import matplotlib.pyplot as plt\n",
    "\n",
    "plt.plot([1, 2, 3, 4], [1, 4, 9, 16])\n",
    "# plt.plot([liste_med_x_verdier], [liste_med_y_verdier])\n",
    "plt.axis([0, 10, 0, 20]) # setter på akser\n",
    "# plt.axis([start_ x, slutt_x, start_y, slutt_y])\n",
    "plt.title(\"noen tall\")\n",
    "plt.xlabel(\"x-verdier\")\n",
    "plt.ylabel(\"y-verdier\")"
   ]
  },
  {
   "cell_type": "markdown",
   "metadata": {},
   "source": [
    "## Presentere data på nettsider med Flask\n",
    "\n",
    "### Eksempel 1: Nettside med Formel 1-sjåfører\n",
    "\n",
    "- fil: `formel1.py`\n",
    "- data: Formel 1-sjåfører\n",
    "\n",
    "### Eksempel 2: Værapp\n",
    "\n",
    "- fil: `vaerapp.py`\n",
    "- data: https://wttr.in/sandvika?format=j1"
   ]
  }
 ],
 "metadata": {
  "kernelspec": {
   "display_name": "Python 3",
   "language": "python",
   "name": "python3"
  },
  "language_info": {
   "codemirror_mode": {
    "name": "ipython",
    "version": 3
   },
   "file_extension": ".py",
   "mimetype": "text/x-python",
   "name": "python",
   "nbconvert_exporter": "python",
   "pygments_lexer": "ipython3",
   "version": "3.11.5"
  }
 },
 "nbformat": 4,
 "nbformat_minor": 2
}
