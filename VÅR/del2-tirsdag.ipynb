{
 "cells": [
  {
   "cell_type": "markdown",
   "metadata": {},
   "source": [
    "## Oppgave 3\n",
    "\n",
    "Listen `biler` inneholder informasjon om de 10 mest solgte bilene i Norge i 2023.\n",
    "\n",
    "> OBS! Kjør kodeblokken under før du begynner å programmere!\n",
    "\n",
    "1. Bruk listen og lag en fin utskrift med informasjon om Tesla Model Y\n",
    "2. Bruk listen og lag en fin utskrift med informasjon om alle bilene på topplisten\n",
    "3. Av bilene som er på topplisten hvor mange solgte biler er av merke Toyota?\n",
    "4. Lag en ordbok som teller antall solgte biler for hvert bilmerke på topplisten\n",
    "5. Tegn et stolpediagram som viser antall solgte biler på topplisten gruppert etter bilmerke"
   ]
  },
  {
   "cell_type": "code",
   "execution_count": 3,
   "metadata": {},
   "outputs": [],
   "source": [
    "biler =  [\n",
    "    {\"bilmerke\": \"Tesla\", \"modell\": \"Model Y\", \"land\": \"USA\", \"antall_solgte\": 23088, \"andel_solgte\": 18.2},\n",
    "    {\"bilmerke\": \"Volkswagen\", \"modell\": \"ID.4\", \"land\": \"Tyskland\", \"antall_solgte\": 6614, \"andel_solgte\": 5.2},\n",
    "    {\"bilmerke\": \"Skoda\", \"modell\": \"Enyaq\", \"land\": \"Tsjekkia\", \"antall_solgte\": 5740, \"andel_solgte\": 4.5},\n",
    "    {\"bilmerke\": \"Toyota\", \"modell\": \"bZ4X\", \"land\": \"Japan\", \"antall_solgte\": 5395, \"andel_solgte\": 4.2},\n",
    "    {\"bilmerke\": \"Volvo\", \"modell\": \"XC40\", \"land\": \"Sverige\", \"antall_solgte\": 5025, \"andel_solgte\": 4.0},\n",
    "    {\"bilmerke\": \"Ford\", \"modell\": \"Mustang Mach-E\", \"land\": \"USA\", \"antall_solgte\": 3792, \"andel_solgte\": 3.0},\n",
    "    {\"bilmerke\": \"Toyota\", \"modell\": \"Yaris\", \"land\": \"Japan\", \"antall_solgte\": 3582, \"andel_solgte\": 2.8},\n",
    "    {\"bilmerke\": \"Toyota\", \"modell\": \"RAV4\", \"land\": \"Japan\", \"antall_solgte\": 3457, \"andel_solgte\": 2.7},\n",
    "    {\"bilmerke\": \"Volkswagen\", \"modell\": \"ID.3\", \"land\": \"Tyskland\", \"antall_solgte\": 3141, \"andel_solgte\": 2.5}\n",
    "]\n",
    "# Kjør denne kodeblokken før du begynner! (shift + enter) / (Trykk på play)"
   ]
  },
  {
   "cell_type": "code",
   "execution_count": 26,
   "metadata": {},
   "outputs": [
    {
     "name": "stdout",
     "output_type": "stream",
     "text": [
      "Bilmerke: Tesla\n",
      "Modell: Model Y\n",
      "Produksjonsland: USA\n",
      "Antall solgte: 23088\n",
      "Andel solgte: 18.2 %\n"
     ]
    }
   ],
   "source": [
    "# 1. Bruk ordboken og lag en fin utskrift med informasjon om Tesla Model Y\n",
    "for bil in biler:\n",
    "    if bil[\"bilmerke\"] == \"Tesla\" and bil[\"modell\"] == \"Model Y\":\n",
    "        print(\"Bilmerke:\", bil[\"bilmerke\"])\n",
    "        print(\"Modell:\", bil[\"modell\"])\n",
    "        print(\"Produksjonsland:\", bil[\"land\"])\n",
    "        print(\"Antall solgte:\", bil[\"antall_solgte\"])\n",
    "        print(\"Andel solgte:\", bil[\"andel_solgte\"], \"%\")\n",
    "        break"
   ]
  },
  {
   "cell_type": "code",
   "execution_count": 25,
   "metadata": {},
   "outputs": [
    {
     "name": "stdout",
     "output_type": "stream",
     "text": [
      "Bilmerke: Tesla\n",
      "Modell: Model Y\n",
      "Land: USA\n",
      "Antall solgte: 23088\n",
      "Andel solgte: 18.2\n",
      "\n",
      "Bilmerke: Volkswagen\n",
      "Modell: ID.4\n",
      "Land: Tyskland\n",
      "Antall solgte: 6614\n",
      "Andel solgte: 5.2\n",
      "\n",
      "Bilmerke: Skoda\n",
      "Modell: Enyaq\n",
      "Land: Tsjekkia\n",
      "Antall solgte: 5740\n",
      "Andel solgte: 4.5\n",
      "\n",
      "Bilmerke: Toyota\n",
      "Modell: bZ4X\n",
      "Land: Japan\n",
      "Antall solgte: 5395\n",
      "Andel solgte: 4.2\n",
      "\n",
      "Bilmerke: Volvo\n",
      "Modell: XC40\n",
      "Land: Sverige\n",
      "Antall solgte: 5025\n",
      "Andel solgte: 4.0\n",
      "\n",
      "Bilmerke: Ford\n",
      "Modell: Mustang Mach-E\n",
      "Land: USA\n",
      "Antall solgte: 3792\n",
      "Andel solgte: 3.0\n",
      "\n",
      "Bilmerke: Toyota\n",
      "Modell: Yaris\n",
      "Land: Japan\n",
      "Antall solgte: 3582\n",
      "Andel solgte: 2.8\n",
      "\n",
      "Bilmerke: Toyota\n",
      "Modell: RAV4\n",
      "Land: Japan\n",
      "Antall solgte: 3457\n",
      "Andel solgte: 2.7\n",
      "\n",
      "Bilmerke: Volkswagen\n",
      "Modell: ID.3\n",
      "Land: Tyskland\n",
      "Antall solgte: 3141\n",
      "Andel solgte: 2.5\n",
      "\n"
     ]
    }
   ],
   "source": [
    "# 2. Bruk listen og lag en fin utskrift med informasjon om alle bilene på topplisten\n",
    "for bil in biler:\n",
    "    print(\"Bilmerke:\", bil[\"bilmerke\"])\n",
    "    print(\"Modell:\", bil[\"modell\"])\n",
    "    print(\"Land:\", bil[\"land\"])\n",
    "    print(\"Antall solgte:\", bil[\"antall_solgte\"])\n",
    "    print(\"Andel solgte:\", bil[\"andel_solgte\"])\n",
    "    print()"
   ]
  },
  {
   "cell_type": "code",
   "execution_count": 24,
   "metadata": {},
   "outputs": [
    {
     "name": "stdout",
     "output_type": "stream",
     "text": [
      "Antall solgte Toyota-biler: 12434\n"
     ]
    }
   ],
   "source": [
    "# 3. Av bilene som er på topplisten hvor mange solgte biler var av merke Toyota?\n",
    "total_toyota_solgt = 0\n",
    "\n",
    "# Gå gjennom hvert element i listen biler\n",
    "for bil in biler:\n",
    "    # Sjekk om bilmerket er Toyota\n",
    "    if bil[\"bilmerke\"] == \"Toyota\":\n",
    "        # Legg til antall solgte biler til totalen\n",
    "        total_toyota_solgt += bil[\"antall_solgte\"]\n",
    "\n",
    "# Skriv ut antall solgte Toyota-biler\n",
    "print(\"Antall solgte Toyota-biler:\", total_toyota_solgt)"
   ]
  },
  {
   "cell_type": "code",
   "execution_count": 30,
   "metadata": {},
   "outputs": [
    {
     "name": "stdout",
     "output_type": "stream",
     "text": [
      "Tesla: 23088 solgte biler\n",
      "Volkswagen: 9755 solgte biler\n",
      "Skoda: 5740 solgte biler\n",
      "Toyota: 12434 solgte biler\n",
      "Volvo: 5025 solgte biler\n",
      "Ford: 3792 solgte biler\n"
     ]
    }
   ],
   "source": [
    "# 4. Lag en ordbok som teller antall solgte biler for hvert bilmerke på topplisten\n",
    "\n",
    "# Opprett en tom ordbok for å holde telleren for hvert bilmerke\n",
    "antall_solgte_biler = {}\n",
    "\n",
    "# Iterer gjennom listen med biler\n",
    "for bil in biler:\n",
    "    # Hent ut bilmerket\n",
    "    bilmerke = bil[\"bilmerke\"]\n",
    "    \n",
    "    # Sjekk om bilmerket allerede er i ordboken\n",
    "    if bilmerke in antall_solgte_biler:\n",
    "        # Hvis bilmerket allerede finnes, legg til antall solgte biler til eksisterende verdi\n",
    "        antall_solgte_biler[bilmerke] += bil[\"antall_solgte\"]\n",
    "    else:\n",
    "        # Hvis bilmerket ikke finnes, legg til bilmerket i ordboken med antall solgte biler som verdi\n",
    "        antall_solgte_biler[bilmerke] = bil[\"antall_solgte\"]\n",
    "\n",
    "# Skriv ut resultatene\n",
    "for bilmerke, antall in antall_solgte_biler.items():\n",
    "    print(f\"{bilmerke}: {antall} solgte biler\")"
   ]
  },
  {
   "cell_type": "code",
   "execution_count": 31,
   "metadata": {},
   "outputs": [
    {
     "data": {
      "image/png": "[encoded data removed]",
      "text/plain": [
       "<Figure size 1000x600 with 1 Axes>"
      ]
     },
     "metadata": {},
     "output_type": "display_data"
    }
   ],
   "source": [
    "# 5. Tegn et stolpediagram som viser antall solgte biler på topplisten gruppert etter bilmerke\n",
    "\n",
    "import matplotlib.pyplot as plt\n",
    "# Grupper dataene etter bilmerke og beregn totalt antall solgte biler for hvert merke\n",
    "solgte_per_merke = {}\n",
    "for bil in biler:\n",
    "    bilmerke = bil[\"bilmerke\"]\n",
    "    antall_solgte = bil[\"antall_solgte\"]\n",
    "    if bilmerke in solgte_per_merke:\n",
    "        solgte_per_merke[bilmerke] += antall_solgte\n",
    "    else:\n",
    "        solgte_per_merke[bilmerke] = antall_solgte\n",
    "\n",
    "# Tegn stolpediagrammet\n",
    "plt.figure(figsize=(10, 6))\n",
    "plt.bar(solgte_per_merke.keys(), solgte_per_merke.values(), color='skyblue')\n",
    "plt.xlabel('Bilmerke')\n",
    "plt.ylabel('Antall solgte biler')\n",
    "plt.title('Antall solgte biler etter bilmerke')\n",
    "plt.xticks(rotation=45)\n",
    "plt.tight_layout()\n",
    "plt.show()"
   ]
  },
  {
   "cell_type": "markdown",
   "metadata": {},
   "source": [
    "## Oppgave 4\n",
    "\n",
    "1. Åpne filen oscar2024.json med python, og print ordboken til \"Actor in a Leading Role\" (den første prisen)\n",
    "2. Print alle de nominerte filmene\n",
    "3. Hvor mange nominasjoner har filmen \"Barbie\"\n",
    "4. Hvilken film har flest nominasjoner, hvor mange har den?\n",
    "5. Lag en oversikt som presenterer de ti filmene med flest nominasjoner og antall nominasjoner"
   ]
  },
  {
   "cell_type": "code",
   "execution_count": 1,
   "metadata": {},
   "outputs": [
    {
     "name": "stdout",
     "output_type": "stream",
     "text": [
      "{\n",
      "    \"name\": \"Actor in a Leading Role\",\n",
      "    \"nominations\": [\n",
      "        {\n",
      "            \"name\": \"Bradley Cooper\",\n",
      "            \"movie\": \"Maestro\"\n",
      "        },\n",
      "        {\n",
      "            \"name\": \"Colman Domingo\",\n",
      "            \"movie\": \"Rustin\"\n",
      "        },\n",
      "        {\n",
      "            \"name\": \"Paul Giamatti\",\n",
      "            \"movie\": \"The Holdovers\"\n",
      "        },\n",
      "        {\n",
      "            \"name\": \"Cillian Murphy\",\n",
      "            \"movie\": \"Oppenheimer\"\n",
      "        },\n",
      "        {\n",
      "            \"name\": \"Jeffrey Wright\",\n",
      "            \"movie\": \"American Fiction\"\n",
      "        }\n",
      "    ]\n",
      "}\n"
     ]
    }
   ],
   "source": [
    "# 1. Åpne filen oscar2024.json med python og print ordboken til \"Actor in a Leading Role\"\n",
    "import json\n",
    "\n",
    "# Open the JSON file\n",
    "with open(\"oscar2024.json\", \"r\") as file:\n",
    "    data = json.load(file)\n",
    "\n",
    "# Find the category \"Actor in a Leading Role\"\n",
    "actor_in_leading_role = None\n",
    "for category in data:\n",
    "    if category[\"name\"] == \"Actor in a Leading Role\":\n",
    "        actor_in_leading_role = category\n",
    "        break\n",
    "\n",
    "# Print the dictionary for \"Actor in a Leading Role\"\n",
    "if actor_in_leading_role:\n",
    "    print(json.dumps(actor_in_leading_role, indent=4))\n",
    "else:\n",
    "    print(\"Category 'Actor in a Leading Role' not found.\")\n"
   ]
  },
  {
   "cell_type": "code",
   "execution_count": 39,
   "metadata": {},
   "outputs": [],
   "source": [
    "# 2. Print alle filmene de nominerte filmene\n",
    "# >  Filmer som er nominert til flere priser kan printes flere ganger\n",
    "\n",
    "\n"
   ]
  },
  {
   "cell_type": "code",
   "execution_count": 40,
   "metadata": {},
   "outputs": [
    {
     "ename": "TypeError",
     "evalue": "'ellipsis' object is not subscriptable",
     "output_type": "error",
     "traceback": [
      "\u001b[1;31m---------------------------------------------------------------------------\u001b[0m",
      "\u001b[1;31mTypeError\u001b[0m                                 Traceback (most recent call last)",
      "Cell \u001b[1;32mIn[40], line 27\u001b[0m\n\u001b[0;32m     24\u001b[0m     \u001b[38;5;28;01mreturn\u001b[39;00m count\n\u001b[0;32m     26\u001b[0m \u001b[38;5;66;03m# Søk etter antall nominasjoner for \"Barbie\"\u001b[39;00m\n\u001b[1;32m---> 27\u001b[0m barbie_nominations \u001b[38;5;241m=\u001b[39m \u001b[43mcount_nominations\u001b[49m\u001b[43m(\u001b[49m\u001b[38;5;124;43m\"\u001b[39;49m\u001b[38;5;124;43mBarbie\u001b[39;49m\u001b[38;5;124;43m\"\u001b[39;49m\u001b[43m)\u001b[49m\n\u001b[0;32m     28\u001b[0m \u001b[38;5;28mprint\u001b[39m(\u001b[38;5;124m\"\u001b[39m\u001b[38;5;124mAntall nominasjoner for filmen \u001b[39m\u001b[38;5;124m'\u001b[39m\u001b[38;5;124mBarbie\u001b[39m\u001b[38;5;124m'\u001b[39m\u001b[38;5;124m:\u001b[39m\u001b[38;5;124m\"\u001b[39m, barbie_nominations)\n",
      "Cell \u001b[1;32mIn[40], line 22\u001b[0m, in \u001b[0;36mcount_nominations\u001b[1;34m(movie_title)\u001b[0m\n\u001b[0;32m     20\u001b[0m \u001b[38;5;28;01mfor\u001b[39;00m category \u001b[38;5;129;01min\u001b[39;00m nominations:\n\u001b[0;32m     21\u001b[0m     \u001b[38;5;28;01mfor\u001b[39;00m nomination \u001b[38;5;129;01min\u001b[39;00m category[\u001b[38;5;124m\"\u001b[39m\u001b[38;5;124mnominations\u001b[39m\u001b[38;5;124m\"\u001b[39m]:\n\u001b[1;32m---> 22\u001b[0m         \u001b[38;5;28;01mif\u001b[39;00m \u001b[43mnomination\u001b[49m\u001b[43m[\u001b[49m\u001b[38;5;124;43m\"\u001b[39;49m\u001b[38;5;124;43mmovie\u001b[39;49m\u001b[38;5;124;43m\"\u001b[39;49m\u001b[43m]\u001b[49m \u001b[38;5;241m==\u001b[39m movie_title:\n\u001b[0;32m     23\u001b[0m             count \u001b[38;5;241m+\u001b[39m\u001b[38;5;241m=\u001b[39m \u001b[38;5;241m1\u001b[39m\n\u001b[0;32m     24\u001b[0m \u001b[38;5;28;01mreturn\u001b[39;00m count\n",
      "\u001b[1;31mTypeError\u001b[0m: 'ellipsis' object is not subscriptable"
     ]
    }
   ],
   "source": [
    "# 3. Hvor mange nominasjoner har filmen \"Barbie\"\n"
   ]
  },
  {
   "cell_type": "code",
   "execution_count": 10,
   "metadata": {},
   "outputs": [],
   "source": [
    "# 4. Hvilken film har flest nominasjoner, hvor mange har den?\n"
   ]
  },
  {
   "cell_type": "code",
   "execution_count": 9,
   "metadata": {},
   "outputs": [],
   "source": [
    "# 5. Lag en utskrift som viser de ti filmene med flest nominasjoner og antall nominasjoner\n"
   ]
  }
 ],
 "metadata": {
  "kernelspec": {
   "display_name": "Python 3",
   "language": "python",
   "name": "python3"
  },
  "language_info": {
   "codemirror_mode": {
    "name": "ipython",
    "version": 3
   },
   "file_extension": ".py",
   "mimetype": "text/x-python",
   "name": "python",
   "nbconvert_exporter": "python",
   "pygments_lexer": "ipython3",
   "version": "3.11.5"
  }
 },
 "nbformat": 4,
 "nbformat_minor": 2
}
