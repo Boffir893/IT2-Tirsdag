{
 "cells": [
  {
   "cell_type": "markdown",
   "metadata": {},
   "source": [
    "2.1\n",
    "\n",
    "Hvilket av følgende er ikke et typisk kjennetegn på pseudokode? Velg riktig alternativ.\n",
    "\n",
    " 1. den har uformell syntaks.\n",
    " 2. den ligner på vanlig menneskespråk.\n",
    " 3. den kan kjøres direkte på en datamaskin. <--- RIKTIG\n",
    " 4. den brukes ofte i planleggingsfasen av programmering."
   ]
  },
  {
   "cell_type": "markdown",
   "metadata": {},
   "source": [
    "2.2\n",
    "\n",
    "\n",
    "Ta utgangspunkt i følgende pseudokode:\n",
    "\n"
   ]
  },
  {
   "cell_type": "code",
   "execution_count": null,
   "metadata": {
    "vscode": {
     "languageId": "plaintext"
    }
   },
   "outputs": [],
   "source": [
    "\n",
    "SET m TO 3\n",
    "SET i TO 1\n",
    "WHILE i GREATER THAN m\n",
    "  DISPLAY \"Lykkelig dag!\"\n",
    "  INCREMENT i\n",
    "ENDWHILE"
   ]
  },
  {
   "cell_type": "markdown",
   "metadata": {},
   "source": [
    "\n",
    "\n",
    " 1. tre ganger\n",
    " 2. to ganger\n",
    " 3. én gang\n",
    " 4. ingen ganger <--- RIKTIG"
   ]
  },
  {
   "cell_type": "markdown",
   "metadata": {},
   "source": [
    "2.3\n",
    "\n",
    "Hvilke av de følgende sekvensene med pseudokode skriver ut tallene fra og med 1 til og med 5? Flere alternativer kan være riktige. Velg riktige svar."
   ]
  },
  {
   "cell_type": "code",
   "execution_count": null,
   "metadata": {
    "vscode": {
     "languageId": "plaintext"
    }
   },
   "outputs": [],
   "source": [
    "1.\n",
    "SET i TO 1\n",
    "FOR hver i LESSER OR EQUAL 5\n",
    "  PRINT i\n",
    "ENDFOR\n",
    "2.\n",
    "SET i TO 1\n",
    "WHILE i < 5\n",
    "  PRINT i\n",
    "  INCREMENT i\n",
    "ENDWHILE\n",
    "3.\n",
    "SET i TO 0\n",
    "FOR hver i LESSER OR EQUAL 4\n",
    "  PRINT i+1\n",
    "ENDFOR\n",
    "4.\n",
    "SET i TO 1\n",
    "WHILE i <= 5\n",
    "  PRINT i\n",
    "  INCREMENT i BY 2\n",
    "ENDWHILE"
   ]
  },
  {
   "cell_type": "markdown",
   "metadata": {},
   "source": [
    "1. 1<---RIKTIG\n",
    "2. 2 <--- RIKTIG\n",
    "3. 3\n",
    "4. 4\n",
    "   \n"
   ]
  },
  {
   "cell_type": "markdown",
   "metadata": {},
   "source": [
    "2.4\n",
    "\n",
    "Tallene 1, 3, 6, 10, 15, 21 og så videre kalles for trekanttall. De tilsvarer antallet prikker som vil vises i en likesidet trekant når man bruker et grunnleggende trekantmønster for å bygge trekanten.\n",
    "\n",
    "Den følgende pseudokoden beskriver en funksjon som regner ut og returner trekanttallet nummer n:"
   ]
  },
  {
   "cell_type": "code",
   "execution_count": null,
   "metadata": {
    "vscode": {
     "languageId": "plaintext"
    }
   },
   "outputs": [],
   "source": [
    "FUNCTION trekanttall (n)\n",
    "  SET tn TO n * (n+1)/2\n",
    "  RETURN tn\n",
    "ENDFUNCTION"
   ]
  },
  {
   "cell_type": "markdown",
   "metadata": {},
   "source": [
    "Bruk funksjonen som er beskrevet ovenfor, og skriv pseudokoden til et program som regner sammen og skriver ut totalsummen av de ti første trekanttallene. Bruk dobbelt mellomrom for innrykk i koden der det er aktuelt. Skriv svaret ditt nedenfor.\n",
    "\n",
    "SVAR:"
   ]
  },
  {
   "cell_type": "code",
   "execution_count": null,
   "metadata": {
    "vscode": {
     "languageId": "plaintext"
    }
   },
   "outputs": [],
   "source": [
    "SET sum TO 0\n",
    "FOR hver i FROM 1 TO 10\n",
    "  SET trekant_num TO trekanttall(i)\n",
    "  SET sum TO sum + trekant_num\n",
    "ENDFOR\n",
    "PRINT sum\n"
   ]
  }
 ],
 "metadata": {
  "language_info": {
   "name": "python"
  }
 },
 "nbformat": 4,
 "nbformat_minor": 2
}
