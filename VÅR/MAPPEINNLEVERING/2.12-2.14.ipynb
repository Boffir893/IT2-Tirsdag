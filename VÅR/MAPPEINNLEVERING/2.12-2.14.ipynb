{
 "cells": [
  {
   "cell_type": "markdown",
   "metadata": {},
   "source": [
    "2.13\n",
    "\n",
    "Du får i oppgave å finne det nest største tallet i en liste (array) med tall. Dersom det finnes flere like tall som er størst, skal ingen av disse regnes som nest størst. Under finner du fire alternative løsninger for denne oppgaven skrevet i pseudokode. Hvilke to løsninger er riktige?"
   ]
  },
  {
   "cell_type": "raw",
   "metadata": {
    "vscode": {
     "languageId": "raw"
    }
   },
   "source": [
    "1\n",
    "SET størst TO negativt uendelig tall\n",
    "FOR hvert tall i listen\n",
    "  IF tall GREATER THAN størst\n",
    "    SET størst TO tall\n",
    "  ENDIF\n",
    "ENDFOR\n",
    "Fjern størst fra listen\n",
    "SET nestStørst TO negativt uendelig tall\n",
    "FOR hvert tall i listen\n",
    "  IF tall GREATER THAN nestStørst \n",
    "    SET nestStørst TO tall\n",
    "  ENDIF\n",
    "ENDFOR\n",
    "DISPLAY nestStørst\n",
    "2\n",
    "SET størst TO første tall i listen\n",
    "SET nestStørst TO andre tall i listen\n",
    "IF nestStørst GREATER THAN størst\n",
    "  Bytt størst og nestStørst\n",
    "ENDIF\n",
    "FOR hvert tall i listen med start fra tredje tall\n",
    "  IF tall GREATER THAN størst\n",
    "    SET nestStørst TO størst\n",
    "    SET størst TO tall\n",
    "  ELSEIF tall GREATER THAN nestStørst AND tall NOT EQUAL TO størst\n",
    "  SET nestStørst TO tall\n",
    "  ENDIF\n",
    "ENDFOR\n",
    "DISPLAY nestStørst\n",
    "3\n",
    "SET størst TO negativt uendelig tall\n",
    "SET nestStørst TO negativt uendelig tall\n",
    "FOR hvert tall i listen\n",
    "  IF tall GREATER THAN størst\n",
    "    SET nestStørst TO størst\n",
    "    SET størst TO tall\n",
    "  ELSEIF tall GREATER THAN nestStørst\n",
    "    SET nestStørst TO tall\n",
    "  ENDIF\n",
    "ENDFOR\n",
    "DISPLAY nestStørst\n",
    "4\n",
    "Sorter listen i synkende rekkefølge\n",
    "FOR hvert tall i listen\n",
    "    IF tall NOT EQUAL TO neste tall i listen\n",
    "        DISPLAY neste tall i listen\n",
    "        avbryt for-løkken\n",
    "    ENDIF\n",
    "ENDFOR"
   ]
  },
  {
   "cell_type": "markdown",
   "metadata": {},
   "source": [
    "1. 1 <--- RIKTIG\n",
    "2. 2\n",
    "3. 3 <--- RIKTIG\n",
    "4. 4\n",
    "   "
   ]
  },
  {
   "cell_type": "markdown",
   "metadata": {},
   "source": [
    "2.14\n",
    "\n",
    "Elementene i en indeksert variabel (liste/array) skal sorteres i stigende rekkefølge etter følgende algoritme: Man sammenligner hvert element fra venstre til høyre i listen med neste element, og hvis elementet er større enn neste element, bytter de plass. Deretter går man videre til neste element og sammenligner på nytt frem til hele listen er gjennomgått. Dette gjentas til hele listen gjennomgås uten at det forekommer noen ombyttinger.\n",
    "\n",
    "Under finner du deler av pseudokoden for denne algoritmen. Her er a en liste med n elementer, og a[ i ] er elementet på plass i i listen.\n"
   ]
  },
  {
   "cell_type": "raw",
   "metadata": {
    "vscode": {
     "languageId": "raw"
    }
   },
   "source": [
    "SET i TO 0\n",
    "FOR hver i LESSER THAN n - 1\n",
    "  IF a[i] GREATER THAN a[i+1]    \n",
    "    CALL byttPlass()\n",
    "  ENDIF\n",
    "ENDFOR\n"
   ]
  },
  {
   "cell_type": "markdown",
   "metadata": {},
   "source": [
    "1. Hva blir innholdet i listen etter at vi har kjørt programmet representert ved pseudokoden over for listen a = [8, 5, 2, 6, 12], som har n = 5 elementer? Velg riktig svar."
   ]
  },
  {
   "cell_type": "raw",
   "metadata": {
    "vscode": {
     "languageId": "raw"
    }
   },
   "source": [
    " [ 5, 8, 2, 6, 12 ]\n",
    " [ 5, 2, 8, 6, 12 ]\n",
    " [ 5, 2, 6, 8, 12 ]\n",
    " [ 2, 5, 6, 8, 12 ]"
   ]
  },
  {
   "cell_type": "markdown",
   "metadata": {},
   "source": [
    "SVAR:  [5, 2, 6, 8, 12]"
   ]
  },
  {
   "cell_type": "markdown",
   "metadata": {},
   "source": [
    "2. Utvid pseudokoden slik at programmet den representerer, sorterer ferdig listen a i stigende rekkefølge etter altgoritmen som er vist øverst. Forklar endringene du gjør. Obs! Du må også lage pseudokode for funksjonen byttPlass()."
   ]
  },
  {
   "cell_type": "raw",
   "metadata": {
    "vscode": {
     "languageId": "raw"
    }
   },
   "source": [
    "SET fortsattOmbytting TO true\n",
    "WHILE fortsattOmbytting\n",
    "  SET fortsattOmbytting TO false\n",
    "  FOR hver i LESSER THAN n - 1\n",
    "    IF a[i] GREATER THAN a[i+1]    \n",
    "      CALL byttPlass(i, i+1)\n",
    "      SET fortsattOmbytting TO true\n",
    "    ENDIF\n",
    "  ENDFOR\n",
    "ENDWHILE\n"
   ]
  },
  {
   "cell_type": "markdown",
   "metadata": {},
   "source": [
    "3. Implementer pseudokoden fra punkt b i ditt programmeringsspråk. Listen skal leses inn automatisk, og den ferdig sorterte listen skal skrives til konsollet eller vises i programmet.\n",
    "   \n",
    "SVAR: "
   ]
  },
  {
   "cell_type": "code",
   "execution_count": null,
   "metadata": {},
   "outputs": [],
   "source": [
    "def byttPlass(a, i, j):\n",
    "    temp = a[i]\n",
    "    a[i] = a[j]\n",
    "    a[j] = temp\n",
    "\n",
    "a = list(map(int, input(\"Skriv inn tallene i listen, separert med mellomrom: \").split()))\n",
    "\n",
    "n = len(a)\n",
    "sorted = False\n",
    "\n",
    "while not sorted:\n",
    "    sorted = True\n",
    "    for i in range(n - 1):\n",
    "        if a[i] > a[i+1]:\n",
    "            byttPlass(a, i, i+1)\n",
    "            sorted = False\n",
    "\n",
    "print(\"Den sorterte listen er:\", a)\n"
   ]
  }
 ],
 "metadata": {
  "language_info": {
   "name": "python"
  }
 },
 "nbformat": 4,
 "nbformat_minor": 2
}
