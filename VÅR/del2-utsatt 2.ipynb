{
 "cells": [
  {
   "cell_type": "markdown",
   "metadata": {},
   "source": [
    "# Del 2 - Med hjelpemidler\n",
    "> Utsatt prøve"
   ]
  },
  {
   "cell_type": "markdown",
   "metadata": {},
   "source": [
    "## Oppgave 3"
   ]
  },
  {
   "cell_type": "code",
   "execution_count": null,
   "metadata": {},
   "outputs": [],
   "source": [
    "humorprisen_2023 = [\n",
    "    {\n",
    "        \"pris\": \"Morsomste humorprogram\",\n",
    "        \"nominerte\": [\n",
    "            {\n",
    "                \"navn\": \"Manndag\",\n",
    "                \"produsent\": \"NRK\",\n",
    "                \"vinner\": True\n",
    "            },\n",
    "            {\n",
    "                \"navn\": \"Erlend og Steinar hjelper deg\",\n",
    "                \"produsent\": \"Discovery\",\n",
    "                \"vinner\": False\n",
    "            },\n",
    "            {\n",
    "                \"navn\": \"KARPE: Ferdig, men ikke kom og tørk\",\n",
    "                \"produsent\": \"NRK\",\n",
    "                \"vinner\": False\n",
    "            }\n",
    "        ]\n",
    "    },\n",
    "    {\n",
    "        \"pris\": \"Morsomste underholdningsprogram\",\n",
    "        \"nominerte\": [\n",
    "            {\n",
    "                \"navn\": \"Bordtenniskameratene\",\n",
    "                \"produsent\": \"VGTV\",\n",
    "                \"vinner\": True\n",
    "            },\n",
    "            {\n",
    "                \"navn\": \"Huskestue\",\n",
    "                \"produsent\": \"TV2\",\n",
    "                \"vinner\": False\n",
    "            },\n",
    "            {\n",
    "                \"navn\": \"Kamikaze\",\n",
    "                \"produsent\": \"Discovery\",\n",
    "                \"vinner\": False\n",
    "            }\n",
    "        ]\n",
    "    },\n",
    "    {\n",
    "        \"pris\": \"Morsomste humordrama\",\n",
    "        \"nominerte\": [\n",
    "            {\n",
    "                \"navn\": \"Føkkings Fladseth\",\n",
    "                \"produsent\": \"TV2\",\n",
    "                \"vinner\": True\n",
    "            },\n",
    "            {\n",
    "                \"navn\": \"Basic Bitch\",\n",
    "                \"produsent\": \"Discovery\",\n",
    "                \"vinner\": False\n",
    "            },\n",
    "            {\n",
    "                \"navn\": \"Hva skjedde med Solveig?\",\n",
    "                \"produsent\": \"NRK\",\n",
    "                \"vinner\": False\n",
    "            }\n",
    "        ]\n",
    "    },\n",
    "    {\n",
    "        \"pris\": \"Morsomste podcast\",\n",
    "        \"nominerte\": [\n",
    "            {\n",
    "                \"navn\": \"Backflip med Snorre Monssson\",\n",
    "                \"produsent\": \"Juicy Production\",\n",
    "                \"vinner\": True\n",
    "            },\n",
    "            {\n",
    "                \"navn\": \"Tusvik & Tønne\",\n",
    "                \"produsent\": \"PodMe\",\n",
    "                \"vinner\": False\n",
    "            },\n",
    "            {\n",
    "                \"navn\": \"Guttapassasjen\",\n",
    "                \"produsent\": \"NRK\",\n",
    "                \"vinner\": False\n",
    "            },\n",
    "            {\n",
    "                \"navn\": \"Med all respekt\",\n",
    "                \"produsent\": \"NRK\",\n",
    "                \"vinner\": False\n",
    "            }\n",
    "        ]\n",
    "    }\n",
    "]"
   ]
  },
  {
   "cell_type": "code",
   "execution_count": null,
   "metadata": {},
   "outputs": [],
   "source": [
    "# 1. Bruk listen med ordbøker og print navnet på Snorre Monssons podcast\n",
    "print(humorprisen_2023[3]['nominerte'][0]['navn'])"
   ]
  },
  {
   "cell_type": "code",
   "execution_count": null,
   "metadata": {},
   "outputs": [],
   "source": [
    "# 2. Print navnet på alle prisene\n",
    "for priser in humorprisen_2023:\n",
    "    print(\"priser:\", priser[\"pris\"])\n",
    "    print()"
   ]
  },
  {
   "cell_type": "code",
   "execution_count": null,
   "metadata": {},
   "outputs": [],
   "source": [
    "# 3. Print navnet på alle de nominerte\n",
    "for pris in humorprisen_2023:\n",
    "    for nominasjon in pris[\"nominerte\"]:\n",
    "        print(nominasjon[\"navn\"])\n",
    "    "
   ]
  },
  {
   "cell_type": "code",
   "execution_count": 160,
   "metadata": {},
   "outputs": [],
   "source": [
    "# 4. Print alle vinnerne\n",
    "for pris in humorprisen_2023:\n",
    "    for vinnere in pris[\"nominerte\"]:\n",
    "         if [\"vinner\"] == True:\n",
    "          print(vinnere[\"vinner\"])"
   ]
  },
  {
   "cell_type": "code",
   "execution_count": null,
   "metadata": {},
   "outputs": [],
   "source": [
    "# 5. Hvor mange nominerte er produsert av NRK?\n",
    "antall_NRK = 0\n",
    "\n",
    "for pris in humorprisen_2023:\n",
    "    for nrk in pris[\"nominerte\"]:\n",
    "       if [\"produsent\"] == \"NRK\":\n",
    "         antall_NRK += 1\n",
    "print(f\"Antall nominerte NRK: {antall_NRK}\")"
   ]
  },
  {
   "cell_type": "code",
   "execution_count": null,
   "metadata": {},
   "outputs": [],
   "source": [
    "# 7. Tegn et stolpediagram med antall nominerte gruppert etter produsent\n",
    "\n",
    "import matplotlib.pyplot as plt\n",
    "# Grupper dataene etter bilmerke og beregn totalt antall solgte biler for hvert merke\n",
    "solgte_per_merke = {}\n",
    "for bil in humorprisen_2023:\n",
    "    bilmerke = bil[\"nominerte\"]\n",
    "    antall_solgte = bil[\"produsent\"]\n",
    "    if bilmerke in solgte_per_merke:\n",
    "        solgte_per_merke[bilmerke] += antall_solgte\n",
    "    else:\n",
    "        solgte_per_merke[bilmerke] = antall_solgte\n",
    "\n",
    "# Tegn stolpediagrammet\n",
    "plt.figure(figsize=(10, 6))\n",
    "plt.bar(solgte_per_merke.keys(), solgte_per_merke.values(), color='skyblue')\n",
    "plt.xlabel('produsent')\n",
    "plt.ylabel('Antall solgte biler')\n",
    "plt.title('Antall solgte biler etter bilmerke')\n",
    "plt.xticks(rotation=45)\n",
    "plt.tight_layout()\n",
    "plt.show()"
   ]
  },
  {
   "cell_type": "code",
   "execution_count": null,
   "metadata": {},
   "outputs": [],
   "source": []
  }
 ],
 "metadata": {
  "kernelspec": {
   "display_name": "Python 3",
   "language": "python",
   "name": "python3"
  },
  "language_info": {
   "codemirror_mode": {
    "name": "ipython",
    "version": 3
   },
   "file_extension": ".py",
   "mimetype": "text/x-python",
   "name": "python",
   "nbconvert_exporter": "python",
   "pygments_lexer": "ipython3",
   "version": "3.11.5"
  }
 },
 "nbformat": 4,
 "nbformat_minor": 2
}
