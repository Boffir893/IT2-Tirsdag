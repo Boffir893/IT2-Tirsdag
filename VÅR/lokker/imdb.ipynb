{
 "cells": [
  {
   "cell_type": "markdown",
   "metadata": {},
   "source": [
    "# Oppgave 2.15 - IMDB\n",
    "1. Hvilken film ligger øverst på listen og hvem har regissert den?\n",
    "2. Hva er gjennomsnittskarakteren til alle filmene på listen?\n",
    "3. Hva er gjennomsnittskarakteren til de ti første filmene?\n",
    "4. Hvilken regissør har regissert flest filmer på listen?\n",
    "    * For hver film er regisørrer en liste. Her holder det med første regissør i listen.\n",
    "    * Bonus: Alle regisørrene i regissørlistene skal telles med."
   ]
  },
  {
   "cell_type": "code",
   "execution_count": null,
   "metadata": {},
   "outputs": [],
   "source": [
    "# Filinnlesning\n",
    "import json\n",
    "\n",
    "fil = open(\"imdb.json\", encoding=\"uft-8\")\n",
    "filmer = json.load(fil)\n",
    "fil.close()"
   ]
  },
  {
   "cell_type": "code",
   "execution_count": null,
   "metadata": {},
   "outputs": [],
   "source": [
    "filmer[0]"
   ]
  }
 ],
 "metadata": {
  "kernelspec": {
   "display_name": "Python 3",
   "language": "python",
   "name": "python3"
  },
  "language_info": {
   "codemirror_mode": {
    "name": "ipython",
    "version": 3
   },
   "file_extension": ".py",
   "mimetype": "text/x-python",
   "name": "python",
   "nbconvert_exporter": "python",
   "pygments_lexer": "ipython3",
   "version": "3.11.5"
  }
 },
 "nbformat": 4,
 "nbformat_minor": 2
}
