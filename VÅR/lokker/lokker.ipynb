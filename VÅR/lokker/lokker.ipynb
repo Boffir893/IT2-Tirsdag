{
 "cells": [
  {
   "cell_type": "code",
   "execution_count": null,
   "metadata": {},
   "outputs": [],
   "source": [
    "# while - løkker\n",
    "teller = 10\n",
    "while teller > 0:\n",
    "    #print(teller)\n",
    "    teller -= 1\n",
    "\n",
    "# teller alle partall fra 2 til 20\n",
    "    teller = 2\n",
    "    while teller <= 20:\n",
    "        print(teller)\n",
    "        teller += 2\n",
    "\n"
   ]
  },
  {
   "cell_type": "code",
   "execution_count": null,
   "metadata": {},
   "outputs": [],
   "source": [
    "# For-løkker\n",
    "# løkker brukes for å gå gjennom en sekvens, en samling med \"ting\". feks en liste med tall eller en ordbok med nøkler.\n",
    "for tall in [1,2,3,4,5,6,7,8,9,10]:\n",
    "    print(tall)\n",
    "\n",
    "for bokstav in \"ja, vi elsker\":\n",
    "    print(bokstav)"
   ]
  },
  {
   "cell_type": "code",
   "execution_count": null,
   "metadata": {},
   "outputs": [],
   "source": [
    "# Range\n",
    "# range(start, slutt_før, steg) er en innebygd funksjon som gir oss en sekvens med tall, som vi kan bruke i for-løkker.\n",
    "\n",
    "# for tall in [1,2,3,4,5,6,7,8,9,10]: # Dette blir slitsomt i lengden! Vi bruker isteden da range.\n",
    "#     print(tall)\n",
    "\n",
    "# for tall in range(1,11,1): # for hvert tall i sekvensen som starter på 1, slutter før 11 og øker med 1.\n",
    "#    print(tall)\n",
    "\n",
    "# eksperttips, hvis vi starter på 0, trenger vi ikke å skrive start-argument.\n",
    "# hvis vi skal øke med 1, trenger vi ikke skrive et steg-argument.\n",
    "\n",
    "# 1.Oppgave: print ut alle tallene fra 0 til 7:\n",
    "\n",
    "#    for tall in range(1,8,1):\n",
    "#        print(tall)\n",
    "\n",
    "\n",
    "# 2.Oppgave: print ut alle tallene fra 10 til 0:\n",
    "\n",
    "for tall in range(10,-1,-1):\n",
    "    print(tall)"
   ]
  },
  {
   "cell_type": "code",
   "execution_count": null,
   "metadata": {},
   "outputs": [],
   "source": [
    "fag = [\"IT1\",\"IT2\",\"1T\",\"R1\",\"R2\"]\n",
    "karakterer = [6,6,4,5,4]\n",
    "\n",
    "for tall in range(len(fag)):\n",
    "    print(f\"{fag[tall]}: {karakterer[tall]}\")"
   ]
  },
  {
   "cell_type": "code",
   "execution_count": null,
   "metadata": {},
   "outputs": [],
   "source": [
    "ravi = {\n",
    "    \"navn\": \"Ravi\",\n",
    "    \"yrke\": \"Lærer\",\n",
    "    \"alder\": 42\n",
    "}\n",
    "\n",
    "print(ravi{\"yrke\"})\n",
    "print(ravi[123])\n",
    "\n",
    "print()\n",
    "print(\"nøkler\")\n",
    "# en for-løkke som looper gjennom en ordbok vil gå gjennom alle nøklene\n",
    "# variabelen som opprettes i en for-løkke som går gjennom en ordbok vil etter tur ha verdiene til nøklene i ordboka\n",
    "for nøkkel in ravi:\n",
    "    print(nøkkel)\n",
    "\n",
    "# alternativt kan vi bruke .items() og to veriabler for å gå igjennom alt innholdet i ei ordbok.\n",
    "for nøkkel, verdi in ravi.items():\n",
    "    print(nøkkel, verdi)"
   ]
  },
  {
   "cell_type": "code",
   "execution_count": null,
   "metadata": {},
   "outputs": [],
   "source": [
    "skuespillere = [\n",
    "    {\"navn\": \"Tom Hanks\", \"alder\": 66},\n",
    "    {\"navn\": \"Meryl Streep\", \"alder\": 73},\n",
    "    {\"navn\": \"Leonardo DiCaprio\", \"alder\": 48},\n",
    "    {\"navn\": \"Julia Roberts\", \"alder\": 55},\n",
    "    {\"navn\": \"Denzel Washington\", \"alder\": 67},\n",
    "    {\"navn\": \"Nicole Kidman\", \"alder\": 55},\n",
    "    {\"navn\": \"Brad Pitt\", \"alder\": 59},\n",
    "    {\"navn\": \"Charlize Theron\", \"alder\": 47},\n",
    "    {\"navn\": \"Johnny Depp\", \"alder\": 59},\n",
    "    {\"navn\": \"Emma Stone\", \"alder\": 34},\n",
    "]\n",
    "\n",
    "# For å få ut Emma Stone\n",
    "favoritt = skuespillere[-1]\n",
    "# Eller:\n",
    "favoritt = skuespillere[9]\n",
    "\n",
    "print(f\"{favoritt['navn']} ({favoritt['alder']})\")"
   ]
  },
  {
   "cell_type": "code",
   "execution_count": 10,
   "metadata": {},
   "outputs": [
    {
     "name": "stdout",
     "output_type": "stream",
     "text": [
      "Tom Hanks (66)\n",
      "Meryl Streep (73)\n",
      "Leonardo DiCaprio (48)\n",
      "Julia Roberts (55)\n",
      "Denzel Washington (67)\n",
      "Nicole Kidman (55)\n",
      "Brad Pitt (59)\n",
      "Charlize Theron (47)\n",
      "Johnny Depp (59)\n",
      "Emma Stone (34)\n"
     ]
    }
   ],
   "source": [
    "for s in skuespillere:\n",
    "    print(f\"{s['navn']} ({s['alder']})\")"
   ]
  },
  {
   "cell_type": "code",
   "execution_count": 11,
   "metadata": {},
   "outputs": [
    {
     "name": "stdout",
     "output_type": "stream",
     "text": [
      "{'navn': 'Meryl Streep', 'alder': 73}\n",
      "0.0\n"
     ]
    }
   ],
   "source": [
    "eldst = skuespillere[0]\n",
    "totalalder = 0\n",
    "for s in skuespillere:\n",
    "    if s[\"alder\"] > eldst[\"alder\"]:\n",
    "        eldst = s\n",
    "print(eldst)\n",
    "snitt = totalalder / len(skuespillere)\n",
    "print(snitt)"
   ]
  },
  {
   "cell_type": "code",
   "execution_count": null,
   "metadata": {},
   "outputs": [],
   "source": []
  }
 ],
 "metadata": {
  "kernelspec": {
   "display_name": "Python 3",
   "language": "python",
   "name": "python3"
  },
  "language_info": {
   "codemirror_mode": {
    "name": "ipython",
    "version": 3
   },
   "file_extension": ".py",
   "mimetype": "text/x-python",
   "name": "python",
   "nbconvert_exporter": "python",
   "pygments_lexer": "ipython3",
   "version": "3.11.5"
  }
 },
 "nbformat": 4,
 "nbformat_minor": 2
}
